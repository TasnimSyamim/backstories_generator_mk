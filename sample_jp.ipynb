{
 "cells": [
  {
   "cell_type": "code",
   "execution_count": 1,
   "metadata": {},
   "outputs": [],
   "source": [
    "import os\n",
    "import pickle\n",
    "from contextlib import nullcontext\n",
    "import torch\n",
    "import tiktoken\n",
    "from model import GPTConfig, GPT"
   ]
  },
  {
   "cell_type": "code",
   "execution_count": 2,
   "metadata": {},
   "outputs": [
    {
     "name": "stdout",
     "output_type": "stream",
     "text": [
      "number of parameters: 29.94M\n",
      "No meta.pkl found, assuming GPT-2 encodings...\n",
      "Text saved to file.\n",
      "A man is the swordking. He has the appearance of the protagonists when the appearance of the appearance of evil. The name and take time of the second tournament, but his ancestors for the original timeline, but had him to find the tenth while fighting for his demise. His old age, he has also been seen in the Netherrealm, even though the merger, as a mysterious entitiesaturally stretched into a thorough guise to his true forms. The hat can quickly became part. His primary weapon is his soul had his true lizard form. As such, he possesses the protagonists when he's powers extend to using it as he is able to shape-living objects he can even further his soul energy. He taken lightly, he has access the form of dark substance or smoke in MK11, but his armor increased and lava and bone. In the Dragon King Onaga's wraith has also given his teleporting by Raiden's Konquest mode. Noob has been established that Shao Kahn is a human of a human of a human of a human of a human of smoke is a human of sorcery by Shang Takeda's new form of his body of flames. In Mortal Kombat media, his soul is highly conceited and cunning and dark magic manipulation, and more than his own death and necromancy, as he is capable of using his physical form as he is able to summon fireball projectiles in his opponent. He also able to teleporting in Shaolin monk and overwhelm his penchant for his better judgment, allowing him to defeat sense dark incapacitating his own master and joins the Elder God of Elder God even further his own clan and others as his former master and recruit, allowing him to his body by his body by his body by his body into his body being enough to keep himself. In addition to a flaming skull, he has the title's head-like appearance, he has absorbed by their powers of the powers of some of Wonder Woman to fight to fight for the older Kuei's work by teaching him the reset time the help Liu Kang of both timelines by the revenants of Shang Tsung. Although Ermac has been a threat to individual of the original timeline of the original timeline of the original timeline, she had become a chain of events of Netherrealm. His powers and blood in Mortal Kombat: Deadly Alliance. He would be used to death of Earthrealm’s death, when they are killed by the Netherrealm. This Kabal is revealed in the second timeline,\n",
      "---------------\n"
     ]
    }
   ],
   "source": [
    "# -----------------------------------------------------------------------------\n",
    "init_from = 'resume' # either 'resume' (from an out_dir) or a gpt2 variant (e.g. 'gpt2-xl')\n",
    "out_dir = 'out-mk-src' # ignored if init_from is not 'resume'\n",
    "start = \"A man is the swordking.\" # or \"<|endoftext|>\" or etc. Can also specify a file, use as: \"FILE:prompt.txt\"\n",
    "num_samples = 1 # number of samples to draw\n",
    "max_new_tokens = 500 # number of tokens generated in each sample\n",
    "temperature = 0.8 # 1.0 = no change, < 1.0 = less random, > 1.0 = more random, in predictions\n",
    "top_k = 200 # retain only the top_k most likely tokens, clamp others to have 0 probability\n",
    "seed = 1337\n",
    "device = 'cuda' # examples: 'cpu', 'cuda', 'cuda:0', 'cuda:1', etc.\n",
    "dtype = 'bfloat16' if torch.cuda.is_bf16_supported() else 'float16' # 'float32' or 'bfloat16' or 'float16'\n",
    "compile = False # use PyTorch 2.0 to compile the model to be faster\n",
    "# exec(open('configurator.py').read()) # overrides from command line or config file\n",
    "# -----------------------------------------------------------------------------\n",
    "\n",
    "torch.manual_seed(seed)\n",
    "torch.cuda.manual_seed(seed)\n",
    "torch.backends.cuda.matmul.allow_tf32 = True # allow tf32 on matmul\n",
    "torch.backends.cudnn.allow_tf32 = True # allow tf32 on cudnn\n",
    "device_type = 'cuda' if 'cuda' in device else 'cpu' # for later use in torch.autocast\n",
    "ptdtype = {'float32': torch.float32, 'bfloat16': torch.bfloat16, 'float16': torch.float16}[dtype]\n",
    "ctx = nullcontext() if device_type == 'cpu' else torch.amp.autocast(device_type=device_type, dtype=ptdtype)\n",
    "\n",
    "# model\n",
    "if init_from == 'resume':\n",
    "    # init from a model saved in a specific directory\n",
    "    ckpt_path = os.path.join(out_dir, 'ckpt.pt')\n",
    "    checkpoint = torch.load(ckpt_path, map_location=device)\n",
    "    gptconf = GPTConfig(**checkpoint['model_args'])\n",
    "    model = GPT(gptconf)\n",
    "    state_dict = checkpoint['model']\n",
    "    unwanted_prefix = '_orig_mod.'\n",
    "    for k,v in list(state_dict.items()):\n",
    "        if k.startswith(unwanted_prefix):\n",
    "            state_dict[k[len(unwanted_prefix):]] = state_dict.pop(k)\n",
    "    model.load_state_dict(state_dict)\n",
    "elif init_from.startswith('gpt2'):\n",
    "    # init from a given GPT-2 model\n",
    "    model = GPT.from_pretrained(init_from, dict(dropout=0.0))\n",
    "\n",
    "model.eval()\n",
    "model.to(device)\n",
    "if compile:\n",
    "    model = torch.compile(model) # requires PyTorch 2.0 (optional)\n",
    "\n",
    "# look for the meta pickle in case it is available in the dataset folder\n",
    "load_meta = False\n",
    "if init_from == 'resume' and 'config' in checkpoint and 'dataset' in checkpoint['config']: # older checkpoints might not have these...\n",
    "    meta_path = os.path.join('data', checkpoint['config']['dataset'], 'meta.pkl')\n",
    "    load_meta = os.path.exists(meta_path)\n",
    "if load_meta:\n",
    "    print(f\"Loading meta from {meta_path}...\")\n",
    "    with open(meta_path, 'rb') as f:\n",
    "        meta = pickle.load(f)\n",
    "    # TODO want to make this more general to arbitrary encoder/decoder schemes\n",
    "    stoi, itos = meta['stoi'], meta['itos']\n",
    "    encode = lambda s: [stoi[c] for c in s]\n",
    "    decode = lambda l: ''.join([itos[i] for i in l])\n",
    "else:\n",
    "    # ok let's assume gpt-2 encodings by default\n",
    "    print(\"No meta.pkl found, assuming GPT-2 encodings...\")\n",
    "    enc = tiktoken.get_encoding(\"gpt2\")\n",
    "    encode = lambda s: enc.encode(s, allowed_special={\"<|endoftext|>\"})\n",
    "    decode = lambda l: enc.decode(l)\n",
    "\n",
    "# encode the beginning of the prompt\n",
    "if start.startswith('FILE:'):\n",
    "    with open(start[5:], 'r', encoding='utf-8') as f:\n",
    "        start = f.read()\n",
    "        \n",
    "# start_custom = \"mortal kombat character's backstories of\" + start\n",
    "start_ids = encode(start)\n",
    "# start_ids = encode(start_custom)\n",
    "x = (torch.tensor(start_ids, dtype=torch.long, device=device)[None, ...])\n",
    "\n",
    "# run generation\n",
    "with torch.no_grad():\n",
    "    with ctx:\n",
    "        for k in range(num_samples):\n",
    "            y = model.generate(x, max_new_tokens, temperature=temperature, top_k=top_k)\n",
    "            text = decode(y[0].tolist())\n",
    "            with open(\"testOutput.txt\", \"w\") as file:\n",
    "                # Write the text to the file\n",
    "                file.write(text)\n",
    "\n",
    "            print(\"Text saved to file.\")\n",
    "            print(text)\n",
    "            print('---------------')\n",
    "            "
   ]
  },
  {
   "cell_type": "code",
   "execution_count": 3,
   "metadata": {},
   "outputs": [
    {
     "data": {
      "text/plain": [
       "\"A man is the swordking. He has the appearance of the protagonists when the appearance of the appearance of evil. The name and take time of the second tournament, but his ancestors for the original timeline, but had him to find the tenth while fighting for his demise. His old age, he has also been seen in the Netherrealm, even though the merger, as a mysterious entitiesaturally stretched into a thorough guise to his true forms. The hat can quickly became part. His primary weapon is his soul had his true lizard form. As such, he possesses the protagonists when he's powers extend to using it as he is able to shape-living objects he can even further his soul energy. He taken lightly, he has access the form of dark substance or smoke in MK11, but his armor increased and lava and bone. In the Dragon King Onaga's wraith has also given his teleporting by Raiden's Konquest mode. Noob has been established that Shao Kahn is a human of a human of a human of a human of a human of smoke is a human of sorcery by Shang Takeda's new form of his body of flames. In Mortal Kombat media, his soul is highly conceited and cunning and dark magic manipulation, and more than his own death and necromancy, as he is capable of using his physical form as he is able to summon fireball projectiles in his opponent. He also able to teleporting in Shaolin monk and overwhelm his penchant for his better judgment, allowing him to defeat sense dark incapacitating his own master and joins the Elder God of Elder God even further his own clan and others as his former master and recruit, allowing him to his body by his body by his body by his body into his body being enough to keep himself. In addition to a flaming skull, he has the title's head-like appearance, he has absorbed by their powers of the powers of some of Wonder Woman to fight to fight for the older Kuei's work by teaching him the reset time the help Liu Kang of both timelines by the revenants of Shang Tsung. Although Ermac has been a threat to individual of the original timeline of the original timeline of the original timeline, she had become a chain of events of Netherrealm. His powers and blood in Mortal Kombat: Deadly Alliance. He would be used to death of Earthrealm’s death, when they are killed by the Netherrealm. This Kabal is revealed in the second timeline,\""
      ]
     },
     "execution_count": 3,
     "metadata": {},
     "output_type": "execute_result"
    }
   ],
   "source": [
    "text"
   ]
  }
 ],
 "metadata": {
  "kernelspec": {
   "display_name": "nanoenv",
   "language": "python",
   "name": "python3"
  },
  "language_info": {
   "codemirror_mode": {
    "name": "ipython",
    "version": 3
   },
   "file_extension": ".py",
   "mimetype": "text/x-python",
   "name": "python",
   "nbconvert_exporter": "python",
   "pygments_lexer": "ipython3",
   "version": "3.11.4"
  },
  "orig_nbformat": 4
 },
 "nbformat": 4,
 "nbformat_minor": 2
}
